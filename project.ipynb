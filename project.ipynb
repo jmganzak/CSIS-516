{
 "cells": [
  {
   "cell_type": "code",
   "execution_count": 1,
   "metadata": {},
   "outputs": [],
   "source": [
    "import pandas as pd\n",
    "import numpy as np\n",
    "\n",
    "df_stations = pd.read_csv('station.csv')\n",
    "df_trips = pd.read_csv('trip.csv')"
   ]
  },
  {
   "cell_type": "code",
   "execution_count": 2,
   "metadata": {},
   "outputs": [],
   "source": [
    "df_trips['start_time'] = pd.to_datetime(df_trips['start_time'])\n",
    "df_trips['end_time'] = pd.to_datetime(df_trips['end_time'])\n",
    "df_stations['station_name'] = df_stations['station_name'].apply(lambda x: x.strip())"
   ]
  },
  {
   "cell_type": "code",
   "execution_count": 3,
   "metadata": {},
   "outputs": [
    {
     "data": {
      "text/plain": [
       "1569966"
      ]
     },
     "execution_count": 3,
     "metadata": {},
     "output_type": "execute_result"
    }
   ],
   "source": [
    "#A\n",
    "total_trips = len(df_trips)\n",
    "#grab length of df_trip\n",
    "total_trips"
   ]
  },
  {
   "cell_type": "code",
   "execution_count": 4,
   "metadata": {},
   "outputs": [
    {
     "data": {
      "text/plain": [
       "4"
      ]
     },
     "execution_count": 4,
     "metadata": {},
     "output_type": "execute_result"
    }
   ],
   "source": [
    "#B\n",
    "municipalities = df_stations['municipality'].nunique()\n",
    "#grab unique elements from stations \n",
    "municipalities"
   ]
  },
  {
   "cell_type": "code",
   "execution_count": 5,
   "metadata": {},
   "outputs": [
    {
     "name": "stdout",
     "output_type": "stream",
     "text": [
      "municipality  station_count\n",
      "      Boston             97\n",
      "   Cambridge             28\n",
      "  Somerville             12\n",
      "   Brookline              5\n"
     ]
    }
   ],
   "source": [
    "#C\n",
    "station_counts = df_stations.groupby('municipality')['station_id'].nunique().reset_index()\n",
    "#group by municipality, count unique station ids\n",
    "station_counts.columns = ['municipality', 'station_count']\n",
    "station_counts = station_counts.sort_values(by=['station_count', 'municipality'], ascending=[False, True])\n",
    "#print results without index\n",
    "print(station_counts.to_string(index=False))\n",
    "\n"
   ]
  },
  {
   "cell_type": "code",
   "execution_count": 6,
   "metadata": {},
   "outputs": [
    {
     "data": {
      "text/plain": [
       "24.550994647858012"
      ]
     },
     "execution_count": 6,
     "metadata": {},
     "output_type": "execute_result"
    }
   ],
   "source": [
    "#D\n",
    "female_reg_users = df_trips.loc[(df_trips['user_type'] == 'Registered') & \n",
    "                               (df_trips['gender'] == 'Female')]\n",
    "#grab female registered users\n",
    "total_reg_users = len(df_trips.loc[df_trips['user_type'] == 'Registered'])\n",
    "#count total num\n",
    "female_reg_user_trips = len(female_reg_users)\n",
    "#grab length of users\n",
    "percent_female_reg_users = (female_reg_user_trips / total_reg_users) * 100\n",
    "percent_female_reg_users"
   ]
  },
  {
   "cell_type": "code",
   "execution_count": 7,
   "metadata": {},
   "outputs": [
    {
     "data": {
      "text/plain": [
       "0.5"
      ]
     },
     "execution_count": 7,
     "metadata": {},
     "output_type": "execute_result"
    }
   ],
   "source": [
    "#E\n",
    "short_trips = df_trips.loc[df_trips['duration'] < 60]\n",
    "#filter by duration\n",
    "total_trips = len(df_trips)\n",
    "#grab length of trips in dataset\n",
    "short_trip_count = len(short_trips)\n",
    "#grab number of trips\n",
    "percent_short_trips = (short_trip_count / total_trips) * 100\n",
    "percent_short_trips = round(percent_short_trips, 2)\n",
    "percent_short_trips"
   ]
  },
  {
   "cell_type": "code",
   "execution_count": 8,
   "metadata": {},
   "outputs": [
    {
     "data": {
      "text/plain": [
       "id                                  541247\n",
       "station_name_start    Tremont St / West St\n",
       "station_name_end      Tremont St / West St\n",
       "duration                              9999\n",
       "bike_id                             T01078\n",
       "Name: 534848, dtype: object"
      ]
     },
     "execution_count": 8,
     "metadata": {},
     "output_type": "execute_result"
    }
   ],
   "source": [
    "#F\n",
    "#merge dataframes for start/end\n",
    "longest_trip_data = (\n",
    "    df_trips.merge(df_stations.rename(columns={'station_id': 'start_station_id', 'station_name': 'station_name_start'}), \n",
    "                   on='start_station_id', how='left') #grab start\n",
    "            .merge(df_stations.rename(columns={'station_id': 'end_station_id', 'station_name': 'station_name_end'}), \n",
    "                   on='end_station_id', how='left') #end\n",
    "                   #grab correct row\n",
    "            .loc[df_trips['duration'].idxmax(), ['id', 'station_name_start', 'station_name_end', 'duration', 'bike_id']]\n",
    ")\n",
    "longest_trip_data"
   ]
  },
  {
   "cell_type": "code",
   "execution_count": 9,
   "metadata": {},
   "outputs": [
    {
     "name": "stdout",
     "output_type": "stream",
     "text": [
      "2.31\n"
     ]
    }
   ],
   "source": [
    "#G\n",
    "grouped_trips = df_trips.groupby('user_type')['duration'].mean()\n",
    "#group trips by type, grab mean\n",
    "ratio = grouped_trips['Casual'] / grouped_trips['Registered']\n",
    "#calculate ratio\n",
    "print(round(ratio, 2))"
   ]
  },
  {
   "cell_type": "code",
   "execution_count": 10,
   "metadata": {},
   "outputs": [
    {
     "name": "stdout",
     "output_type": "stream",
     "text": [
      "4.65\n"
     ]
    }
   ],
   "source": [
    "#H\n",
    "roundtrips_mask = df_trips['start_station_id'] == df_trips['end_station_id']\n",
    "#find trips start and end\n",
    "percentage_roundtrips = roundtrips_mask.mean() * 100\n",
    "#grab mean\n",
    "print(round(percentage_roundtrips, 2))\n"
   ]
  },
  {
   "cell_type": "code",
   "execution_count": 11,
   "metadata": {},
   "outputs": [
    {
     "name": "stdout",
     "output_type": "stream",
     "text": [
      "['B00001', 'B00014', 'B00018', 'B00028', 'B00092', 'B00172', 'B00215', 'B00217', 'B00242', 'B00314', 'B00317', 'B00318', 'B00326', 'B00337', 'B00368', 'B00378', 'B00409', 'B00459', 'B00471', 'B00482', 'B00546', 'B00553', 'B00601', 'B00613', 'B01462', 'T01001', 'T01020', 'T01043', 'T01062', 'T01066', 'T01073', 'T01084', 'T01127', 'T01135', 'T01185', 'T01206', 'T01209', 'T01263', 'T01297', 'T01301', 'T01306', 'T01321', 'T01411', 'T01437']\n"
     ]
    }
   ],
   "source": [
    "#I\n",
    "somerville_stations = set(df_stations[df_stations['municipality'] == 'Somerville']['station_id'])\n",
    "#grab stations\n",
    "bike_stations = df_trips.groupby('bike_id')[['start_station_id', 'end_station_id']].apply(lambda x: set(x['start_station_id']) | set(x['end_station_id']))\n",
    "#grab stations from bikes\n",
    "bikes_visited_somerville = bike_stations[bike_stations.apply(lambda x: somerville_stations.issubset(x))].index\n",
    "#filter\n",
    "print(sorted(bikes_visited_somerville))\n"
   ]
  },
  {
   "cell_type": "code",
   "execution_count": 12,
   "metadata": {},
   "outputs": [
    {
     "data": {
      "text/html": [
       "<div>\n",
       "<style scoped>\n",
       "    .dataframe tbody tr th:only-of-type {\n",
       "        vertical-align: middle;\n",
       "    }\n",
       "\n",
       "    .dataframe tbody tr th {\n",
       "        vertical-align: top;\n",
       "    }\n",
       "\n",
       "    .dataframe thead th {\n",
       "        text-align: right;\n",
       "    }\n",
       "</style>\n",
       "<table border=\"1\" class=\"dataframe\">\n",
       "  <thead>\n",
       "    <tr style=\"text-align: right;\">\n",
       "      <th></th>\n",
       "      <th>bike_id</th>\n",
       "      <th>station_count</th>\n",
       "    </tr>\n",
       "  </thead>\n",
       "  <tbody>\n",
       "    <tr>\n",
       "      <th>17</th>\n",
       "      <td>B00001</td>\n",
       "      <td>134</td>\n",
       "    </tr>\n",
       "    <tr>\n",
       "      <th>469</th>\n",
       "      <td>B00456</td>\n",
       "      <td>132</td>\n",
       "    </tr>\n",
       "    <tr>\n",
       "      <th>565</th>\n",
       "      <td>B00553</td>\n",
       "      <td>132</td>\n",
       "    </tr>\n",
       "    <tr>\n",
       "      <th>926</th>\n",
       "      <td>T01214</td>\n",
       "      <td>132</td>\n",
       "    </tr>\n",
       "    <tr>\n",
       "      <th>366</th>\n",
       "      <td>B00353</td>\n",
       "      <td>131</td>\n",
       "    </tr>\n",
       "    <tr>\n",
       "      <th>283</th>\n",
       "      <td>B00270</td>\n",
       "      <td>130</td>\n",
       "    </tr>\n",
       "    <tr>\n",
       "      <th>331</th>\n",
       "      <td>B00318</td>\n",
       "      <td>130</td>\n",
       "    </tr>\n",
       "    <tr>\n",
       "      <th>384</th>\n",
       "      <td>B00371</td>\n",
       "      <td>130</td>\n",
       "    </tr>\n",
       "    <tr>\n",
       "      <th>451</th>\n",
       "      <td>B00438</td>\n",
       "      <td>130</td>\n",
       "    </tr>\n",
       "    <tr>\n",
       "      <th>495</th>\n",
       "      <td>B00482</td>\n",
       "      <td>130</td>\n",
       "    </tr>\n",
       "  </tbody>\n",
       "</table>\n",
       "</div>"
      ],
      "text/plain": [
       "    bike_id  station_count\n",
       "17   B00001            134\n",
       "469  B00456            132\n",
       "565  B00553            132\n",
       "926  T01214            132\n",
       "366  B00353            131\n",
       "283  B00270            130\n",
       "331  B00318            130\n",
       "384  B00371            130\n",
       "451  B00438            130\n",
       "495  B00482            130"
      ]
     },
     "execution_count": 12,
     "metadata": {},
     "output_type": "execute_result"
    }
   ],
   "source": [
    "#J\n",
    "start_stations = df_trips.merge(df_stations, left_on='start_station_id', right_on='station_id')\n",
    "#merge trips and stations\n",
    "end_stations = df_trips.merge(df_stations, left_on='end_station_id', right_on='station_id')\n",
    "#merge\n",
    "all_stations = pd.concat([start_stations, end_stations])\n",
    "#combine\n",
    "bike_counts = all_stations.groupby('bike_id')['station_id'].nunique().reset_index()\n",
    "#find unique\n",
    "bike_counts.columns = ['bike_id', 'station_count']\n",
    "#set columns\n",
    "bike_counts = bike_counts.sort_values(by=['station_count', 'bike_id'], ascending=[False, True]).head(10)\n",
    "bike_counts\n",
    "\n"
   ]
  },
  {
   "cell_type": "code",
   "execution_count": 15,
   "metadata": {},
   "outputs": [
    {
     "name": "stdout",
     "output_type": "stream",
     "text": [
      "  municipalities  percentage\n",
      "0         Boston   71.512794\n",
      "2      Cambridge   22.910453\n",
      "3     Somerville    3.550168\n",
      "1      Brookline    2.026585\n"
     ]
    }
   ],
   "source": [
    "#K\n",
    "\n",
    "# merge stations and trips dataframes to get the start and end municipalities\n",
    "df_trips = pd.merge(df_trips, df_stations[['station_id', 'municipality']], left_on='start_station_id', right_on='station_id', how='left')\n",
    "df_trips = pd.merge(df_trips, df_stations[['station_id', 'municipality']], left_on='end_station_id', right_on='station_id', how='left', suffixes=('_start', '_end'))\n",
    "\n",
    "# create a new column with a list of unique municipalities for each trip\n",
    "df_trips['municipalities'] = df_trips[['municipality_start', 'municipality_end']].apply(lambda x: list(set(filter(pd.notnull, x))), axis=1)\n",
    "\n",
    "# explode the list of municipalities so that each row represents one municipality for each trip\n",
    "df_trips = df_trips.explode('municipalities')\n",
    "\n",
    "# group by municipality and count the number of trips for each\n",
    "trips_by_municipality = df_trips.groupby('municipalities').size().reset_index(name='count')\n",
    "\n",
    "# calculate the total number of trips\n",
    "total_trips = trips_by_municipality['count'].sum()\n",
    "\n",
    "# calculate the percentage of trips for each municipality\n",
    "trips_by_municipality['percentage'] = trips_by_municipality['count'] / total_trips * 100\n",
    "\n",
    "# sort by percentage (decreasing) and then by municipality name\n",
    "trips_by_municipality = trips_by_municipality.sort_values(['percentage', 'municipalities'], ascending=[False, True])\n",
    "\n",
    "# print the output\n",
    "print(trips_by_municipality[['municipalities', 'percentage']])\n",
    "\n",
    "\n",
    "\n",
    "\n",
    "\n"
   ]
  },
  {
   "cell_type": "code",
   "execution_count": 5,
   "metadata": {},
   "outputs": [
    {
     "data": {
      "text/plain": [
       "[3,\n",
       " 13,\n",
       " 23,\n",
       " 30,\n",
       " 31,\n",
       " 32,\n",
       " 33,\n",
       " 34,\n",
       " 35,\n",
       " 36,\n",
       " 37,\n",
       " 38,\n",
       " 39,\n",
       " 43,\n",
       " 53,\n",
       " 63,\n",
       " 73,\n",
       " 83,\n",
       " 93,\n",
       " 103,\n",
       " 113,\n",
       " 123,\n",
       " 130,\n",
       " 131,\n",
       " 132,\n",
       " 133,\n",
       " 134,\n",
       " 135,\n",
       " 136,\n",
       " 137,\n",
       " 138,\n",
       " 139,\n",
       " 143,\n",
       " 153,\n",
       " 163,\n",
       " 173,\n",
       " 183,\n",
       " 193,\n",
       " 203,\n",
       " 213,\n",
       " 223,\n",
       " 230,\n",
       " 231,\n",
       " 232,\n",
       " 233,\n",
       " 234,\n",
       " 235,\n",
       " 236,\n",
       " 237,\n",
       " 238,\n",
       " 239,\n",
       " 243,\n",
       " 253,\n",
       " 263,\n",
       " 273,\n",
       " 283,\n",
       " 293,\n",
       " 300,\n",
       " 301,\n",
       " 302,\n",
       " 303,\n",
       " 304,\n",
       " 305,\n",
       " 306,\n",
       " 307,\n",
       " 308,\n",
       " 309,\n",
       " 310,\n",
       " 311,\n",
       " 312,\n",
       " 313,\n",
       " 314,\n",
       " 315,\n",
       " 316,\n",
       " 317,\n",
       " 318,\n",
       " 319,\n",
       " 320,\n",
       " 321,\n",
       " 322,\n",
       " 323,\n",
       " 324,\n",
       " 325,\n",
       " 326,\n",
       " 327,\n",
       " 328,\n",
       " 329,\n",
       " 330,\n",
       " 331,\n",
       " 332,\n",
       " 333,\n",
       " 334,\n",
       " 335,\n",
       " 336,\n",
       " 337,\n",
       " 338,\n",
       " 339,\n",
       " 340,\n",
       " 341,\n",
       " 342,\n",
       " 343,\n",
       " 344,\n",
       " 345,\n",
       " 346,\n",
       " 347,\n",
       " 348,\n",
       " 349,\n",
       " 350,\n",
       " 351,\n",
       " 352,\n",
       " 353,\n",
       " 354,\n",
       " 355,\n",
       " 356,\n",
       " 357,\n",
       " 358,\n",
       " 359,\n",
       " 360,\n",
       " 361,\n",
       " 362,\n",
       " 363,\n",
       " 364,\n",
       " 365,\n",
       " 366,\n",
       " 367,\n",
       " 368,\n",
       " 369,\n",
       " 370,\n",
       " 371,\n",
       " 372,\n",
       " 373,\n",
       " 374,\n",
       " 375,\n",
       " 376,\n",
       " 377,\n",
       " 378,\n",
       " 379,\n",
       " 380,\n",
       " 381,\n",
       " 382,\n",
       " 383,\n",
       " 384,\n",
       " 385,\n",
       " 386,\n",
       " 387,\n",
       " 388,\n",
       " 389,\n",
       " 390,\n",
       " 391,\n",
       " 392,\n",
       " 393,\n",
       " 394,\n",
       " 395,\n",
       " 396,\n",
       " 397,\n",
       " 398,\n",
       " 399,\n",
       " 403,\n",
       " 413,\n",
       " 423,\n",
       " 430,\n",
       " 431,\n",
       " 432,\n",
       " 433,\n",
       " 434,\n",
       " 435,\n",
       " 436,\n",
       " 437,\n",
       " 438,\n",
       " 439,\n",
       " 443,\n",
       " 453,\n",
       " 463,\n",
       " 473,\n",
       " 483,\n",
       " 493,\n",
       " 503,\n",
       " 513,\n",
       " 523,\n",
       " 530,\n",
       " 531,\n",
       " 532,\n",
       " 533,\n",
       " 534,\n",
       " 535,\n",
       " 536,\n",
       " 537,\n",
       " 538,\n",
       " 539,\n",
       " 543,\n",
       " 553,\n",
       " 563,\n",
       " 573,\n",
       " 583,\n",
       " 593,\n",
       " 603,\n",
       " 613,\n",
       " 623,\n",
       " 630,\n",
       " 631,\n",
       " 632,\n",
       " 633,\n",
       " 634,\n",
       " 635,\n",
       " 636,\n",
       " 637,\n",
       " 638,\n",
       " 639,\n",
       " 643,\n",
       " 653,\n",
       " 663,\n",
       " 673,\n",
       " 683,\n",
       " 693,\n",
       " 703,\n",
       " 713,\n",
       " 723,\n",
       " 730,\n",
       " 731,\n",
       " 732,\n",
       " 733,\n",
       " 734,\n",
       " 735,\n",
       " 736,\n",
       " 737,\n",
       " 738,\n",
       " 739,\n",
       " 743,\n",
       " 753,\n",
       " 763,\n",
       " 773,\n",
       " 783,\n",
       " 793,\n",
       " 803,\n",
       " 813,\n",
       " 823,\n",
       " 830,\n",
       " 831,\n",
       " 832,\n",
       " 833,\n",
       " 834,\n",
       " 835,\n",
       " 836,\n",
       " 837,\n",
       " 838,\n",
       " 839,\n",
       " 843,\n",
       " 853,\n",
       " 863,\n",
       " 873,\n",
       " 883,\n",
       " 893,\n",
       " 903,\n",
       " 913,\n",
       " 923,\n",
       " 930,\n",
       " 931,\n",
       " 932,\n",
       " 933,\n",
       " 934,\n",
       " 935,\n",
       " 936,\n",
       " 937,\n",
       " 938,\n",
       " 939,\n",
       " 943,\n",
       " 953,\n",
       " 963,\n",
       " 973,\n",
       " 983,\n",
       " 993]"
      ]
     },
     "execution_count": 5,
     "metadata": {},
     "output_type": "execute_result"
    }
   ],
   "source": [
    "num = [x for x in range(1,1001) if '3' in str(x)]\n",
    "num"
   ]
  },
  {
   "cell_type": "code",
   "execution_count": null,
   "metadata": {},
   "outputs": [],
   "source": []
  }
 ],
 "metadata": {
  "kernelspec": {
   "display_name": "Python 3",
   "language": "python",
   "name": "python3"
  },
  "language_info": {
   "codemirror_mode": {
    "name": "ipython",
    "version": 3
   },
   "file_extension": ".py",
   "mimetype": "text/x-python",
   "name": "python",
   "nbconvert_exporter": "python",
   "pygments_lexer": "ipython3",
   "version": "3.10.5"
  },
  "orig_nbformat": 4
 },
 "nbformat": 4,
 "nbformat_minor": 2
}
